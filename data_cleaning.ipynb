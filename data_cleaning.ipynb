{
 "cells": [
  {
   "cell_type": "code",
   "execution_count": 118,
   "metadata": {
    "collapsed": true
   },
   "outputs": [],
   "source": [
    "import pickle_funcs as pk\n",
    "import random"
   ]
  },
  {
   "cell_type": "code",
   "execution_count": 119,
   "metadata": {
    "collapsed": true
   },
   "outputs": [],
   "source": [
    "data = pk.unpickle_object('data')"
   ]
  },
  {
   "cell_type": "code",
   "execution_count": 120,
   "metadata": {
    "collapsed": false
   },
   "outputs": [
    {
     "data": {
      "text/html": [
       "<div>\n",
       "<table border=\"1\" class=\"dataframe\">\n",
       "  <thead>\n",
       "    <tr style=\"text-align: right;\">\n",
       "      <th></th>\n",
       "      <th>zipcode</th>\n",
       "      <th>population</th>\n",
       "      <th>lats</th>\n",
       "      <th>lons</th>\n",
       "      <th>city names</th>\n",
       "    </tr>\n",
       "  </thead>\n",
       "  <tbody>\n",
       "    <tr>\n",
       "      <th>0</th>\n",
       "      <td>00601</td>\n",
       "      <td>18570</td>\n",
       "      <td>18.16</td>\n",
       "      <td>-66.72</td>\n",
       "      <td>ADJUNTAS, PR</td>\n",
       "    </tr>\n",
       "    <tr>\n",
       "      <th>1</th>\n",
       "      <td>00602</td>\n",
       "      <td>41520</td>\n",
       "      <td>18.38</td>\n",
       "      <td>-67.18</td>\n",
       "      <td>AGUADA, PR</td>\n",
       "    </tr>\n",
       "    <tr>\n",
       "      <th>2</th>\n",
       "      <td>00603</td>\n",
       "      <td>54689</td>\n",
       "      <td>18.43</td>\n",
       "      <td>-67.15</td>\n",
       "      <td>AGUADILLA, PR</td>\n",
       "    </tr>\n",
       "    <tr>\n",
       "      <th>3</th>\n",
       "      <td>00606</td>\n",
       "      <td>6615</td>\n",
       "      <td>18.18</td>\n",
       "      <td>-66.98</td>\n",
       "      <td>MARICAO, PR</td>\n",
       "    </tr>\n",
       "    <tr>\n",
       "      <th>4</th>\n",
       "      <td>00610</td>\n",
       "      <td>29016</td>\n",
       "      <td>18.28</td>\n",
       "      <td>-67.14</td>\n",
       "      <td>ANASCO, PR</td>\n",
       "    </tr>\n",
       "  </tbody>\n",
       "</table>\n",
       "</div>"
      ],
      "text/plain": [
       "  zipcode  population   lats   lons     city names\n",
       "0   00601       18570  18.16 -66.72   ADJUNTAS, PR\n",
       "1   00602       41520  18.38 -67.18     AGUADA, PR\n",
       "2   00603       54689  18.43 -67.15  AGUADILLA, PR\n",
       "3   00606        6615  18.18 -66.98    MARICAO, PR\n",
       "4   00610       29016  18.28 -67.14     ANASCO, PR"
      ]
     },
     "execution_count": 120,
     "metadata": {},
     "output_type": "execute_result"
    }
   ],
   "source": [
    "data.head()"
   ]
  },
  {
   "cell_type": "code",
   "execution_count": 121,
   "metadata": {
    "collapsed": false
   },
   "outputs": [
    {
     "data": {
      "text/plain": [
       "33223"
      ]
     },
     "execution_count": 121,
     "metadata": {},
     "output_type": "execute_result"
    }
   ],
   "source": [
    "len(data.index)"
   ]
  },
  {
   "cell_type": "code",
   "execution_count": 122,
   "metadata": {
    "collapsed": false
   },
   "outputs": [],
   "source": [
    "delete_rows = []\n",
    "for k in data.index:\n",
    "    if data.iloc[k,2] == 'None':\n",
    "        delete_rows.append(k)\n",
    "        #print(data.iloc[k,:])"
   ]
  },
  {
   "cell_type": "code",
   "execution_count": 123,
   "metadata": {
    "collapsed": false
   },
   "outputs": [
    {
     "data": {
      "text/plain": [
       "6234"
      ]
     },
     "execution_count": 123,
     "metadata": {},
     "output_type": "execute_result"
    }
   ],
   "source": [
    "len(delete_rows)"
   ]
  },
  {
   "cell_type": "code",
   "execution_count": 125,
   "metadata": {
    "collapsed": true
   },
   "outputs": [],
   "source": [
    "# Delete rows in the initial database which have no data\n",
    "data.drop(data.index[delete_rows], inplace=True)"
   ]
  },
  {
   "cell_type": "code",
   "execution_count": 124,
   "metadata": {
    "collapsed": false
   },
   "outputs": [],
   "source": [
    "none_values = {}\n",
    "for i in delete_rows:\n",
    "    zipcode = data.iloc[i,0]\n",
    "    population = data.iloc[i,1]\n",
    "    none_values[zipcode] = population"
   ]
  },
  {
   "cell_type": "code",
   "execution_count": 126,
   "metadata": {
    "collapsed": true
   },
   "outputs": [],
   "source": [
    "# Writing these to file in order to try to find solutions\n",
    "with open('broken.csv', 'w') as f:\n",
    "    for i in none_values:\n",
    "        string = '%s,%s\\n' % (i,none_values[i])\n",
    "        f.write(string)"
   ]
  },
  {
   "cell_type": "code",
   "execution_count": 127,
   "metadata": {
    "collapsed": false
   },
   "outputs": [],
   "source": [
    "samp = []\n",
    "for i in range(100):\n",
    "    samp.append(random.randrange(0,len(delete_rows)))\n",
    "\n",
    "def sample():\n",
    "    for i in samp:\n",
    "        print(data.iloc[delete_rows[i],:])\n",
    "        print('')"
   ]
  },
  {
   "cell_type": "markdown",
   "metadata": {},
   "source": [
    "It looks like the problem I'm facing is that the source of zip codes I'm using isn't complete.\n",
    "\n",
    "I think that I'm just going to figure out how to use the google maps API and use this to do the lookup. May as well do it for the entire thing... \n",
    "\n",
    "Now I'm having issues with the data source. "
   ]
  },
  {
   "cell_type": "markdown",
   "metadata": {},
   "source": [
    "Finally got somewhere with pyzipcode library "
   ]
  },
  {
   "cell_type": "code",
   "execution_count": 128,
   "metadata": {
    "collapsed": true
   },
   "outputs": [],
   "source": [
    "df2 = pk.unpickle_object('error_data')"
   ]
  },
  {
   "cell_type": "code",
   "execution_count": 129,
   "metadata": {
    "collapsed": false
   },
   "outputs": [
    {
     "data": {
      "text/html": [
       "<div>\n",
       "<table border=\"1\" class=\"dataframe\">\n",
       "  <thead>\n",
       "    <tr style=\"text-align: right;\">\n",
       "      <th></th>\n",
       "      <th>zipcode</th>\n",
       "      <th>population</th>\n",
       "      <th>lats</th>\n",
       "      <th>lons</th>\n",
       "      <th>city names</th>\n",
       "    </tr>\n",
       "  </thead>\n",
       "  <tbody>\n",
       "    <tr>\n",
       "      <th>0</th>\n",
       "      <td>21601</td>\n",
       "      <td>23597</td>\n",
       "      <td>38.7779</td>\n",
       "      <td>-76.0782</td>\n",
       "      <td>Easton, MD</td>\n",
       "    </tr>\n",
       "    <tr>\n",
       "      <th>1</th>\n",
       "      <td>46989</td>\n",
       "      <td>5195</td>\n",
       "      <td>40.4576</td>\n",
       "      <td>-85.4909</td>\n",
       "      <td>Upland, IN</td>\n",
       "    </tr>\n",
       "    <tr>\n",
       "      <th>2</th>\n",
       "      <td>47306</td>\n",
       "      <td>6189</td>\n",
       "      <td>40.2023</td>\n",
       "      <td>-85.4082</td>\n",
       "      <td>Muncie, IN</td>\n",
       "    </tr>\n",
       "    <tr>\n",
       "      <th>3</th>\n",
       "      <td>60460</td>\n",
       "      <td>1522</td>\n",
       "      <td>41.0015</td>\n",
       "      <td>-88.5298</td>\n",
       "      <td>Odell, IL</td>\n",
       "    </tr>\n",
       "    <tr>\n",
       "      <th>4</th>\n",
       "      <td>61874</td>\n",
       "      <td>7114</td>\n",
       "      <td>40.0617</td>\n",
       "      <td>-88.2502</td>\n",
       "      <td>Savoy, IL</td>\n",
       "    </tr>\n",
       "  </tbody>\n",
       "</table>\n",
       "</div>"
      ],
      "text/plain": [
       "  zipcode  population     lats     lons  city names\n",
       "0   21601       23597  38.7779 -76.0782  Easton, MD\n",
       "1   46989        5195  40.4576 -85.4909  Upland, IN\n",
       "2   47306        6189  40.2023 -85.4082  Muncie, IN\n",
       "3   60460        1522  41.0015 -88.5298   Odell, IL\n",
       "4   61874        7114  40.0617 -88.2502   Savoy, IL"
      ]
     },
     "execution_count": 129,
     "metadata": {},
     "output_type": "execute_result"
    }
   ],
   "source": [
    "df2.head()"
   ]
  },
  {
   "cell_type": "code",
   "execution_count": 130,
   "metadata": {
    "collapsed": true
   },
   "outputs": [],
   "source": [
    "delete_rows = []\n",
    "for k in df2.index:\n",
    "    if df2.iloc[k,2] == 'None':\n",
    "        delete_rows.append(k)"
   ]
  },
  {
   "cell_type": "code",
   "execution_count": 131,
   "metadata": {
    "collapsed": false
   },
   "outputs": [
    {
     "data": {
      "text/plain": [
       "37"
      ]
     },
     "execution_count": 131,
     "metadata": {},
     "output_type": "execute_result"
    }
   ],
   "source": [
    "len(delete_rows)"
   ]
  },
  {
   "cell_type": "markdown",
   "metadata": {},
   "source": [
    "Okay, now there are only 37 values with none, will just delete"
   ]
  },
  {
   "cell_type": "code",
   "execution_count": 132,
   "metadata": {
    "collapsed": true
   },
   "outputs": [],
   "source": [
    "df2.drop(df2.index[delete_rows], inplace=True)"
   ]
  },
  {
   "cell_type": "code",
   "execution_count": 133,
   "metadata": {
    "collapsed": false,
    "scrolled": true
   },
   "outputs": [
    {
     "data": {
      "text/html": [
       "<div>\n",
       "<table border=\"1\" class=\"dataframe\">\n",
       "  <thead>\n",
       "    <tr style=\"text-align: right;\">\n",
       "      <th></th>\n",
       "      <th>zipcode</th>\n",
       "      <th>population</th>\n",
       "      <th>lats</th>\n",
       "      <th>lons</th>\n",
       "      <th>city names</th>\n",
       "    </tr>\n",
       "  </thead>\n",
       "  <tbody>\n",
       "    <tr>\n",
       "      <th>0</th>\n",
       "      <td>00601</td>\n",
       "      <td>18570</td>\n",
       "      <td>18.16</td>\n",
       "      <td>-66.72</td>\n",
       "      <td>ADJUNTAS, PR</td>\n",
       "    </tr>\n",
       "    <tr>\n",
       "      <th>1</th>\n",
       "      <td>00602</td>\n",
       "      <td>41520</td>\n",
       "      <td>18.38</td>\n",
       "      <td>-67.18</td>\n",
       "      <td>AGUADA, PR</td>\n",
       "    </tr>\n",
       "    <tr>\n",
       "      <th>2</th>\n",
       "      <td>00603</td>\n",
       "      <td>54689</td>\n",
       "      <td>18.43</td>\n",
       "      <td>-67.15</td>\n",
       "      <td>AGUADILLA, PR</td>\n",
       "    </tr>\n",
       "    <tr>\n",
       "      <th>3</th>\n",
       "      <td>00606</td>\n",
       "      <td>6615</td>\n",
       "      <td>18.18</td>\n",
       "      <td>-66.98</td>\n",
       "      <td>MARICAO, PR</td>\n",
       "    </tr>\n",
       "    <tr>\n",
       "      <th>4</th>\n",
       "      <td>00610</td>\n",
       "      <td>29016</td>\n",
       "      <td>18.28</td>\n",
       "      <td>-67.14</td>\n",
       "      <td>ANASCO, PR</td>\n",
       "    </tr>\n",
       "  </tbody>\n",
       "</table>\n",
       "</div>"
      ],
      "text/plain": [
       "  zipcode  population   lats   lons     city names\n",
       "0   00601       18570  18.16 -66.72   ADJUNTAS, PR\n",
       "1   00602       41520  18.38 -67.18     AGUADA, PR\n",
       "2   00603       54689  18.43 -67.15  AGUADILLA, PR\n",
       "3   00606        6615  18.18 -66.98    MARICAO, PR\n",
       "4   00610       29016  18.28 -67.14     ANASCO, PR"
      ]
     },
     "execution_count": 133,
     "metadata": {},
     "output_type": "execute_result"
    }
   ],
   "source": [
    "data.head()"
   ]
  },
  {
   "cell_type": "code",
   "execution_count": 134,
   "metadata": {
    "collapsed": false
   },
   "outputs": [
    {
     "data": {
      "text/plain": [
       "26989"
      ]
     },
     "execution_count": 134,
     "metadata": {},
     "output_type": "execute_result"
    }
   ],
   "source": [
    "len(data)"
   ]
  },
  {
   "cell_type": "code",
   "execution_count": 135,
   "metadata": {
    "collapsed": false
   },
   "outputs": [
    {
     "data": {
      "text/plain": [
       "6192"
      ]
     },
     "execution_count": 135,
     "metadata": {},
     "output_type": "execute_result"
    }
   ],
   "source": [
    "len(df2)"
   ]
  },
  {
   "cell_type": "code",
   "execution_count": 136,
   "metadata": {
    "collapsed": true
   },
   "outputs": [],
   "source": [
    "data = data.append(df2)"
   ]
  },
  {
   "cell_type": "code",
   "execution_count": 137,
   "metadata": {
    "collapsed": false
   },
   "outputs": [
    {
     "data": {
      "text/plain": [
       "33181"
      ]
     },
     "execution_count": 137,
     "metadata": {},
     "output_type": "execute_result"
    }
   ],
   "source": [
    "len(data)"
   ]
  },
  {
   "cell_type": "markdown",
   "metadata": {},
   "source": [
    "## Remove duplicates from city names"
   ]
  },
  {
   "cell_type": "code",
   "execution_count": 158,
   "metadata": {
    "collapsed": false
   },
   "outputs": [],
   "source": [
    "data['total population'] = data.groupby(['city names'])['population'].transform('sum')\n",
    "data_dropped = (data.drop_duplicates('city names'))\n",
    "#data_dropped.sort_values('city names')"
   ]
  },
  {
   "cell_type": "markdown",
   "metadata": {},
   "source": [
    "## Write object to file"
   ]
  },
  {
   "cell_type": "code",
   "execution_count": 159,
   "metadata": {
    "collapsed": true
   },
   "outputs": [],
   "source": [
    "pk.pickle_object(data_dropped,'clean_data', test=False)"
   ]
  },
  {
   "cell_type": "code",
   "execution_count": null,
   "metadata": {
    "collapsed": true
   },
   "outputs": [],
   "source": []
  }
 ],
 "metadata": {
  "anaconda-cloud": {},
  "kernelspec": {
   "display_name": "Python [conda root]",
   "language": "python",
   "name": "conda-root-py"
  },
  "language_info": {
   "codemirror_mode": {
    "name": "ipython",
    "version": 3
   },
   "file_extension": ".py",
   "mimetype": "text/x-python",
   "name": "python",
   "nbconvert_exporter": "python",
   "pygments_lexer": "ipython3",
   "version": "3.5.2"
  }
 },
 "nbformat": 4,
 "nbformat_minor": 1
}
